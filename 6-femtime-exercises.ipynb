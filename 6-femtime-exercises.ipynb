{
 "cells": [
  {
   "cell_type": "markdown",
   "metadata": {},
   "source": [
    "\n",
    "# Exercises\n",
    "\n",
    "\n",
    "\n",
    "<!-- --- begin exercise --- -->\n",
    "\n",
    "## Exercise 1: Analyze a Crank-Nicolson scheme for the diffusion equation\n",
    "<div id=\"fem:deq:exer:diffu:analysis:CN\"></div>\n",
    "\n",
    "Perform the analysis in the section [Accuracy of the finite element solution](#fem:deq:diffu:anal) for a 1D\n",
    "diffusion equation $u_t = {\\alpha} u_{xx}$ discretized by the\n",
    "Crank-Nicolson scheme in time:"
   ]
  },
  {
   "cell_type": "markdown",
   "metadata": {},
   "source": [
    "$$\n",
    "\\frac{u^{n+1}- u^n}{\\Delta t} = {\\alpha} \\frac{1}{2}\\left(\n",
    "\\frac{\\partial u^{n+1}}{\\partial x^2} +\n",
    "\\frac{\\partial u^{n}}{\\partial x^2}\\right),\n",
    "$$"
   ]
  },
  {
   "cell_type": "markdown",
   "metadata": {},
   "source": [
    "or written compactly with finite difference operators,"
   ]
  },
  {
   "cell_type": "markdown",
   "metadata": {},
   "source": [
    "$$\n",
    "[D_t u = {\\alpha} D_xD_x \\overline{u}^t]^{n+\\frac{1}{2}}{\\thinspace .}\n",
    "$$"
   ]
  },
  {
   "cell_type": "markdown",
   "metadata": {},
   "source": [
    "(From a strict mathematical point of view, the $u^n$\n",
    "and $u^{n+1}$ in these\n",
    "equations should be replaced by ${u_{\\small\\mbox{e}}}^n$ and ${u_{\\small\\mbox{e}}}^{n+1}$ to\n",
    "indicate that the unknown is the exact solution of the PDE\n",
    "discretized in time, but not yet in space, see\n",
    "the section [Discretization in time by a Forward Euler scheme](#fem:deq:diffu:FE).)\n",
    "Filename: `fe_diffusion`.\n",
    "\n",
    "<!-- --- end exercise --- -->"
   ]
  }
 ],
 "metadata": {
  "kernelspec": {
   "display_name": "Python 3",
   "language": "python",
   "name": "python3"
  },
  "language_info": {
   "codemirror_mode": {
    "name": "ipython",
    "version": 3
   },
   "file_extension": ".py",
   "mimetype": "text/x-python",
   "name": "python",
   "nbconvert_exporter": "python",
   "pygments_lexer": "ipython3",
   "version": "3.8.3"
  }
 },
 "nbformat": 4,
 "nbformat_minor": 2
}
