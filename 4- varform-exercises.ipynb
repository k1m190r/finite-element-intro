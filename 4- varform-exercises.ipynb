{
 "cells": [
  {
   "cell_type": "markdown",
   "metadata": {},
   "source": [
    "# Exercises\n",
    "\n",
    "\n",
    "<!-- examples on model4 with 1, x, x^2 etc. Show that N=2 recovers -->\n",
    "<!-- the exact solution -->\n",
    "\n",
    "<!-- heat conduction in the ground with radioactivity, need good  model, not -->\n",
    "<!-- just the old one -->\n",
    "<!-- string with load -->\n",
    "<!-- hanging cable, see ideas/5620 articles about that (nonlinear) -->\n",
    "\n",
    "\n",
    "\n",
    "<!-- --- begin exercise --- -->\n",
    "\n",
    "## Exercise 1: Refactor functions into a more general class\n",
    "<div id=\"fem:deq:exer:BVP1D:class\"></div>\n",
    "\n",
    "The section [Simple model problems and their solutions](#fem:deq:1D:models:simple) lists three functions for\n",
    "computing the analytical solution of some simple model problems. There\n",
    "is quite some repetitive code, suggesting that the functions can\n",
    "benefit from being refactored into a class hierarchy, where the super\n",
    "class solves $-(a(x)u'(x))'=f(x)$ and where subclasses define the\n",
    "equations for the boundary conditions in a model. Make a method for\n",
    "returning the residual in the differential equation and the boundary\n",
    "conditions when the solution is inserted in these equations. Create a\n",
    "test function that verifies that all three residuals vanish for each\n",
    "of the model problems in the section [Simple model problems and their solutions](#fem:deq:1D:models:simple).  Also\n",
    "make a method that returns the solution either as `sympy` expression\n",
    "or as a string in LaTeX format.  Add a fourth subclass for the problem\n",
    "$-(au')'=f$ with a Robin boundary condition:"
   ]
  },
  {
   "cell_type": "markdown",
   "metadata": {},
   "source": [
    "$$\n",
    "u(0)=0,\\quad -u'(L) = C(u - D){\\thinspace .}\n",
    "$$"
   ]
  },
  {
   "cell_type": "markdown",
   "metadata": {},
   "source": [
    "Demonstrate the use of this subclass for the case $f=0$ and $a=\\sqrt{1+x}$.\n",
    "\n",
    "\n",
    "<!-- --- begin solution of exercise --- -->\n",
    "**Solution.**\n",
    "This is an exercise in software engineering.\n",
    "The model-specific information is related to the boundary\n",
    "conditions only. We can then let the super class take care of the\n",
    "differential equation and the solution process, while subclasses\n",
    "provide a method `get_bc` to\n",
    "return the symbolic expressions for the boundary equations.\n",
    "\n",
    "The super class may be coded as\n",
    "shown below."
   ]
  },
  {
   "cell_type": "code",
   "execution_count": 18,
   "metadata": {},
   "outputs": [],
   "source": [
    "import sympy as sym\n",
    "x, L, C, D, c_0, c_1, = sym.symbols('x L C D c_0 c_1')\n",
    "\n",
    "class TwoPtBoundaryValueProblem(object):\n",
    "    \"\"\"\n",
    "    Solve -(a*u')' = f(x) with boundary conditions\n",
    "    specified in subclasses (method get_bc).\n",
    "    a and f must be sympy expressions of x.\n",
    "    \"\"\"\n",
    "    def __init__(self, f, a=1, L=L, C=C, D=D):\n",
    "        \"\"\"Default values for L, C, D are symbols.\"\"\"\n",
    "        self.f = f\n",
    "        self.a = a\n",
    "        self.L = L\n",
    "        self.C = C\n",
    "        self.D = D\n",
    "\n",
    "        # Integrate twice\n",
    "        u_x = - sym.integrate(f, (x, 0, x)) + c_0\n",
    "        u = sym.integrate(u_x/a, (x, 0, x)) + c_1\n",
    "        # Set up 2 equations from the 2 boundary conditions and solve\n",
    "        # with respect to the integration constants c_0, c_1\n",
    "        eq = self.get_bc(u)\n",
    "        eq = [sym.simplify(eq_) for eq_ in eq]\n",
    "        print(('BC eq:', eq))\n",
    "        self.u = self.apply_bc(eq, u)\n",
    "\n",
    "    def apply_bc(self, eq, u):\n",
    "        # Solve BC eqs respect to the integration constants\n",
    "        r = sym.solve(eq, [c_0, c_1])\n",
    "        # Substitute the integration constants in the solution\n",
    "        u = u.subs(c_0, r[c_0]).subs(c_1, r[c_1])\n",
    "        u = sym.simplify(sym.expand(u))\n",
    "        return u\n",
    "\n",
    "    def get_solution(self, latex=False):\n",
    "        return sym.latex(self.u, mode='plain') if latex else self.u\n",
    "\n",
    "    def get_residuals(self):\n",
    "        \"\"\"Return the residuals in the equation and BCs.\"\"\"\n",
    "        R_eq = sym.diff(sym.diff(self.u, x)*self.a, x) + self.f\n",
    "        R_0, R_L = self.get_bc(self.u)\n",
    "        residuals = [sym.simplify(R) for R in (R_eq, R_0, R_L)]\n",
    "        return residuals\n",
    "\n",
    "    def get_bc(self, u):\n",
    "        raise NotImplementedError(\n",
    "            'class %s has not implemented get_bc' %\n",
    "            self.__class__.__name__)"
   ]
  },
  {
   "cell_type": "markdown",
   "metadata": {},
   "source": [
    "The various subclasses deal with the boundary conditions of the\n",
    "various model problems:"
   ]
  },
  {
   "cell_type": "code",
   "execution_count": 19,
   "metadata": {},
   "outputs": [],
   "source": [
    "class Model1(TwoPtBoundaryValueProblem):\n",
    "    \"\"\"u(0)=0, u(L)=D.\"\"\"\n",
    "    def get_bc(self, u):\n",
    "        return [u.subs(x, 0)-0,               # x=0 condition\n",
    "                u.subs(x, self.L) - self.D]   # x=L condition\n",
    "\n",
    "class Model2(TwoPtBoundaryValueProblem):\n",
    "    \"\"\"u'(0)=C, u(L)=D.\"\"\"\n",
    "    def get_bc(self, u):\n",
    "        return [sym.diff(u,x).subs(x, 0) - self.C, # x=0 cond.\n",
    "                u.subs(x, self.L) - self.D]        # x=L cond.\n",
    "\n",
    "class Model3(TwoPtBoundaryValueProblem):\n",
    "    \"\"\"u(0)=C, u(L)=D.\"\"\"\n",
    "    def get_bc(self, u):\n",
    "        return [u.subs(x, 0) - self.C,\n",
    "                u.subs(x, self.L) - self.D]"
   ]
  },
  {
   "cell_type": "markdown",
   "metadata": {},
   "source": [
    "A suitable test function gets quite compact:"
   ]
  },
  {
   "cell_type": "code",
   "execution_count": 20,
   "metadata": {},
   "outputs": [],
   "source": [
    "def test_TwoPtBoundaryValueProblem():\n",
    "    f = 2\n",
    "    model = Model1(f)\n",
    "    print(('Model 1, u:', model.get_solution()))\n",
    "    for R in model.get_residuals():\n",
    "        assert R == 0\n",
    "\n",
    "    f = x\n",
    "    model = Model2(f)\n",
    "    print(('Model 2, u:', model.get_solution()))\n",
    "    for R in model.get_residuals():\n",
    "        assert R == 0\n",
    "\n",
    "    f = 0\n",
    "    a = 1 + x**2\n",
    "    model = Model3(f, a=a)\n",
    "    print(('Model 3, u:', model.get_solution()))\n",
    "    for R in model.get_residuals():\n",
    "        assert R == 0"
   ]
  },
  {
   "cell_type": "markdown",
   "metadata": {},
   "source": [
    "The fourth model is just about defining the boundary conditions as equations:"
   ]
  },
  {
   "cell_type": "code",
   "execution_count": 21,
   "metadata": {},
   "outputs": [],
   "source": [
    "class Model4(TwoPtBoundaryValueProblem):\n",
    "    \"\"\"u(0)=0, -u'(L)=C*(u-D).\"\"\"\n",
    "    def get_bc(self, u):\n",
    "        return [u.subs(x, 0) - 0,\n",
    "                -sym.diff(u, x).subs(x, self.L) -\n",
    "                self.C*(u.subs(x, self.L) - self.D)]"
   ]
  },
  {
   "cell_type": "markdown",
   "metadata": {},
   "source": [
    "A demo function goes like"
   ]
  },
  {
   "cell_type": "code",
   "execution_count": 22,
   "metadata": {},
   "outputs": [],
   "source": [
    "def demo_Model4():\n",
    "    f = 0\n",
    "    model = Model4(f, a=sym.sqrt(1+x))\n",
    "    print(('Model 4, u:', model.get_solution()))"
   ]
  },
  {
   "cell_type": "markdown",
   "metadata": {},
   "source": [
    "The printout shows that the solution is"
   ]
  },
  {
   "cell_type": "markdown",
   "metadata": {},
   "source": [
    "$$\n",
    "u(x) = \\frac{2CD\\sqrt{1+L}(\\sqrt{1+x}-1}{2C\\sqrt{1+L} + 2C+1}{\\thinspace .}\n",
    "$$"
   ]
  },
  {
   "cell_type": "markdown",
   "metadata": {},
   "source": [
    "<!-- --- end solution of exercise --- -->\n",
    "Filename: `uxx_f_sympy_class`.\n",
    "\n",
    "<!-- --- end exercise --- -->\n",
    "\n",
    "\n",
    "\n",
    "\n",
    "<!-- --- begin exercise --- -->\n",
    "\n",
    "## Exercise 2: Compute the deflection of a cable with sine functions\n",
    "<div id=\"fem:deq:exer:tension:cable\"></div>\n",
    "\n",
    "A hanging cable of length $L$\n",
    "with significant tension $T$ has a deflection $w(x)$\n",
    "governed by"
   ]
  },
  {
   "cell_type": "markdown",
   "metadata": {},
   "source": [
    "$$\n",
    "T w''(x) = \\ell(x),\n",
    "$$"
   ]
  },
  {
   "cell_type": "markdown",
   "metadata": {},
   "source": [
    "where $\\ell(x)$ the vertical load per unit length.\n",
    "The cable is fixed at $x=0$ and $x=L$ so the boundary conditions become\n",
    "$w(0)=w(L)=0$. The deflection $w$ is positive upwards, and $\\ell$ is\n",
    "positive when it acts downwards.\n",
    "\n",
    "If we assume a constant load $\\ell(x)=\\hbox{const}$,\n",
    "the solution is expected to be symmetric around $x=L/2$. For a function\n",
    "$w(x)$ that is symmetric around some point $x_0$, it means that\n",
    "$w(x_0-h) = w(x_0+h)$, and then $w'(x_0)=\\lim_{h\\rightarrow 0}(w(x_0+h)-\n",
    "w(x_0-h))/(2h)=0$. We can therefore utilize symmetry to halve the domain.\n",
    "We then seek $w(x)$ in $[0,L/2]$ with boundary conditions $w(0)=0$ and\n",
    "$w'(L/2)=0$.\n",
    "\n",
    "The problem can be scaled by introducing dimensionless  variables,"
   ]
  },
  {
   "cell_type": "markdown",
   "metadata": {},
   "source": [
    "$$\n",
    "\\bar x = \\frac{x}{L/2},\\quad \\bar u = \\frac{w}{w_c},\n",
    "$$"
   ]
  },
  {
   "cell_type": "markdown",
   "metadata": {},
   "source": [
    "where $w_c$ is a characteristic size of $w$.\n",
    "Inserted in the problem for $w$,"
   ]
  },
  {
   "cell_type": "markdown",
   "metadata": {},
   "source": [
    "$$\n",
    "\\frac{4Tw_c}{L^{2}}\\frac{d^2\\bar u}{d\\bar x^2} = \\ell\\ (= \\hbox{const}){\\thinspace .}\n",
    "$$"
   ]
  },
  {
   "cell_type": "markdown",
   "metadata": {},
   "source": [
    "A desire is to have $u$ and its derivatives about unity, so\n",
    "choosing $w_c$ such that $|d^2\\bar u/d\\bar x^2|=1$ is an idea.\n",
    "Then $w_c=\\frac{1}{4}\\ell L^2/T$, and the problem for the scaled vertical\n",
    "deflection $u$ becomes"
   ]
  },
  {
   "cell_type": "markdown",
   "metadata": {},
   "source": [
    "$$\n",
    "u'' = 1,\\quad x\\in (0,1),\\quad u(0)=0,\\ u'(1)=0{\\thinspace .}\n",
    "$$"
   ]
  },
  {
   "cell_type": "markdown",
   "metadata": {},
   "source": [
    "Observe that there are no physical parameters in this scaled problem.\n",
    "From now on we have for convenience\n",
    "renamed $x$ to be the scaled quantity $\\bar x$.\n",
    "\n",
    "\n",
    "**a)**\n",
    "Find the exact solution for the deflection $u$.\n",
    "\n",
    "\n",
    "<!-- --- begin solution of exercise --- -->\n",
    "**Solution.**\n",
    "[Exercise 1: Refactor functions into a more general class](#fem:deq:exer:BVP1D:class) or\n",
    "the section [Simple model problems and their solutions](#fem:deq:1D:models:simple) features tools for finding\n",
    "the analytical solution of this differential equation.\n",
    "The present\n",
    "model problem is close to model 2\n",
    "in the section [Simple model problems and their solutions](#fem:deq:1D:models:simple). We can modify the `model2`\n",
    "function:"
   ]
  },
  {
   "cell_type": "code",
   "execution_count": 23,
   "metadata": {},
   "outputs": [],
   "source": [
    "def model():\n",
    "    \"\"\"Solve u'' = -1, u(0)=0, u'(1)=0.\"\"\"\n",
    "    import sympy as sym\n",
    "    x, c_0, c_1, = sym.symbols('x c_0 c_1')\n",
    "    u_x = sym.integrate(1, (x, 0, x)) + c_0\n",
    "    u = sym.integrate(u_x, (x, 0, x)) + c_1\n",
    "    r = sym.solve([u.subs(x,0) - 0,\n",
    "                   sym.diff(u,x).subs(x, 1) - 0],\n",
    "                  [c_0, c_1])\n",
    "    u = u.subs(c_0, r[c_0]).subs(c_1, r[c_1])\n",
    "    u = sym.simplify(sym.expand(u))\n",
    "    return u"
   ]
  },
  {
   "cell_type": "markdown",
   "metadata": {},
   "source": [
    "The solution becomes"
   ]
  },
  {
   "cell_type": "markdown",
   "metadata": {},
   "source": [
    "$$\n",
    "u(x) = \\frac{1}{2}x(x-2){\\thinspace .}\n",
    "$$"
   ]
  },
  {
   "cell_type": "markdown",
   "metadata": {},
   "source": [
    "Plotting $u(x)$ shows that $|u|\\in [0,\\frac{1}{2}]$ which is compatible with\n",
    "the aim of the scaling, i.e., to have $u$ of size *about* unity (at least\n",
    "not very small or very large).\n",
    "\n",
    "<!-- --- end solution of exercise --- -->\n",
    "\n",
    "**b)**\n",
    "A possible function space is spanned by ${\\psi}_i=\\sin ((2i+1)\\pi x/2)$,\n",
    "$i=0,\\ldots,N$. These functions\n",
    "fulfill the necessary condition ${\\psi}_i(0)=0$,\n",
    "but they also fulfill ${\\psi}_i'(1)=0$ such that both boundary\n",
    "conditions are fulfilled by the expansion $u=\\sum_jc_j{\\varphi}_j$.\n",
    "\n",
    "Use a Galerkin and a least squares method to find the coefficients\n",
    "$c_j$ in $u(x)=\\sum_j c_j{\\psi}_j$. Find how fast the coefficients\n",
    "decrease in magnitude by looking at $c_j/c_{j-1}$.\n",
    "Find the error in the maximum deflection at $x=1$ when only one\n",
    "basis function is used ($N=0$).\n",
    "\n",
    "<!-- --- begin hint in exercise --- -->\n",
    "\n",
    "**Hint.**\n",
    "In this case, where the basis functions and their derivatives are\n",
    "orthogonal, it is easiest to set up the calculations by hand and\n",
    "use `sympy` to help out with the integrals.\n",
    "\n",
    "<!-- --- end hint in exercise --- -->\n",
    "\n",
    "\n",
    "<!-- --- begin solution of exercise --- -->\n",
    "**Solution.**\n",
    "With $u=\\sum_{j=0}^Nc_j{\\psi}_j(x)$ the residual becomes"
   ]
  },
  {
   "cell_type": "markdown",
   "metadata": {},
   "source": [
    "$$\n",
    "R = 1 - u'' = 1 +\\sum_{j=0}^Nc_j{\\psi}_j''(x) =\n",
    "1 + \\sum_{j=0}^Nc_j(2j+1)^2\\frac{\\pi^2}{4}\\sin((2j+1)\\frac{\\pi x}{2}){\\thinspace .}\n",
    "$$"
   ]
  },
  {
   "cell_type": "markdown",
   "metadata": {},
   "source": [
    "**Least squares method.**\n",
    "The minimization of $\\int_0^1R^2dx$ leads to the equations"
   ]
  },
  {
   "cell_type": "markdown",
   "metadata": {},
   "source": [
    "$$\n",
    "(R,\\frac{\\partial R}{\\partial c_i})=0,\\quad i=0,\\ldots,N{\\thinspace .}\n",
    "$$"
   ]
  },
  {
   "cell_type": "markdown",
   "metadata": {},
   "source": [
    "We find that"
   ]
  },
  {
   "cell_type": "markdown",
   "metadata": {},
   "source": [
    "$$\n",
    "\\frac{\\partial R}{\\partial c_i} =\n",
    "(2i+1)^2\\frac{\\pi^2}{4}\\sin((2i+1)\\frac{\\pi x}{2}),\n",
    "$$"
   ]
  },
  {
   "cell_type": "markdown",
   "metadata": {},
   "source": [
    "so the governing equations become"
   ]
  },
  {
   "cell_type": "markdown",
   "metadata": {},
   "source": [
    "$$\n",
    "(1+\\sum_{j=0}^Nc_j(2j+1)^2\\frac{\\pi^2}{4}\\sin((2j+1)\\frac{\\pi x}{2}),\n",
    "(2i+1)^2\\frac{\\pi^2}{4}\\sin((2i+1)\\frac{\\pi x}{2}) = 0{\\thinspace .}\n",
    "$$"
   ]
  },
  {
   "cell_type": "markdown",
   "metadata": {},
   "source": [
    "By linearity of the inner product (or integral) this expression can\n",
    "be reordered to"
   ]
  },
  {
   "cell_type": "markdown",
   "metadata": {},
   "source": [
    "$$\n",
    "\\begin{align*}\n",
    "\\sum_{j=0}^Nc_j((2j+1)^2\\frac{\\pi^2}{4}\\sin((2j+1)\\frac{\\pi x}{2}), &\n",
    "(2i+1)^2\\frac{\\pi^2}{4}\\sin((2i+1)\\frac{\\pi x}{2}) = \\\\ \n",
    "& -(1, (2i+1)^2\\frac{\\pi^2}{4}\\sin((2i+1)\\frac{\\pi x}{2})),\n",
    "\\end{align*}\n",
    "$$"
   ]
  },
  {
   "cell_type": "markdown",
   "metadata": {},
   "source": [
    "which is nothing but a linear system"
   ]
  },
  {
   "cell_type": "markdown",
   "metadata": {},
   "source": [
    "$$\n",
    "\\sum_{j=0}^N A_{i,j}c_j = b_i,\\quad i=0,\\ldots,N,\n",
    "$$"
   ]
  },
  {
   "cell_type": "markdown",
   "metadata": {},
   "source": [
    "with"
   ]
  },
  {
   "cell_type": "markdown",
   "metadata": {},
   "source": [
    "$$\n",
    "\\begin{align*}\n",
    "A_{i,j} &= (2j+1)^4\\frac{\\pi^4}{16}\\int_0^1\n",
    "\\sin((2j+1)\\frac{\\pi x}{2})\\sin((2i+1)\\frac{\\pi x}{2})dx,\\\\ \n",
    "b_i &= -(2i+1)^2\\frac{\\pi^2}{4}\\int_0^1 \\sin((2i+1)\\frac{\\pi x}{2})dx\n",
    "\\end{align*}\n",
    "$$"
   ]
  },
  {
   "cell_type": "markdown",
   "metadata": {},
   "source": [
    "Orthogonality of the sine functions $\\sin (k\\pi x/2)$ on $[0,1]$\n",
    "for integer $k$ implies that\n",
    "$A_{i,j}=0$ for $i\\neq j$, and $A_{i,i}$ can be\n",
    "computed by `sympy`:"
   ]
  },
  {
   "cell_type": "code",
   "execution_count": 24,
   "metadata": {},
   "outputs": [],
   "source": [
    "from sympy import *\n",
    "i = symbols('i', integer=True)\n",
    "x = symbols('x', real=True)\n",
    "integrate(sin(i*pi*x/2)**2, (x, 0, 1))"
   ]
  },
  {
   "cell_type": "markdown",
   "metadata": {},
   "source": [
    "Therefore,"
   ]
  },
  {
   "cell_type": "markdown",
   "metadata": {},
   "source": [
    "$$\n",
    "A_{i,j} = \\left\\lbrace\\begin{array}{ll}\n",
    "0,& i\\neq j\\\\ \n",
    "\\frac{1}{2} (2i+1)^4\\frac{\\pi^4}{16}, & i = j\n",
    "\\end{array}\\right.\n",
    "$$"
   ]
  },
  {
   "cell_type": "markdown",
   "metadata": {},
   "source": [
    "The right-hand side can also be computed by `sympy`:"
   ]
  },
  {
   "cell_type": "code",
   "execution_count": 25,
   "metadata": {},
   "outputs": [],
   "source": [
    "integrate(sin((2*i+1)*pi*x/2), (x, 0, 1))"
   ]
  },
  {
   "cell_type": "markdown",
   "metadata": {},
   "source": [
    "One should always be skeptical to symbolic software and integration of\n",
    "periodic functions like the sine and cosine since the answers can be\n",
    "too simplistic (see subexercise d!).\n",
    "A general test is to perform numerical integration with\n",
    "lots of sampling points to (partially) verify the symbolic formula.\n",
    "Here is an application of the midpoint rule:"
   ]
  },
  {
   "cell_type": "code",
   "execution_count": 26,
   "metadata": {},
   "outputs": [],
   "source": [
    "def midpoint_rule(f, M=100000):\n",
    "    \"\"\"Integrate f(x) over [0,1] using M intervals.\"\"\"\n",
    "    from numpy import sum, linspace\n",
    "    dx = 1.0/M                       # interval length\n",
    "    x = linspace(dx/2, 1-dx/2, M)    # integration points\n",
    "    return dx*sum(f(x))\n",
    "\n",
    "def check_integral_b():\n",
    "    from numpy import pi, sin\n",
    "    for i in range(12):\n",
    "        exact = 2/(pi*(2*i+1))\n",
    "        numerical = midpoint_rule(\n",
    "            f=lambda x: sin((2*i+1)*pi*x/2))\n",
    "        print((i, abs(exact - numerical)))"
   ]
  },
  {
   "cell_type": "markdown",
   "metadata": {},
   "source": [
    "The output shows that the difference between numerical and exact\n",
    "integration is about $10^{-11}$, which is \"small\" (and gets smaller\n",
    "by just increasing `M`). This result brings evidence that the\n",
    "`sympy` answer is correct.\n",
    "Alternatively, in this simple case, we can easily calculate the anti-derivative.\n",
    "It goes like"
   ]
  },
  {
   "cell_type": "markdown",
   "metadata": {},
   "source": [
    "$$\n",
    "-\\frac{2}{\\pi(2i+1)}\\cos((2k+1)\\frac{\\pi x}{2}),\n",
    "$$"
   ]
  },
  {
   "cell_type": "markdown",
   "metadata": {},
   "source": [
    "and for $x=1$ we get\n",
    "$\\cos\\frac{\\pi}{2}$, $\\cos 3\\frac{\\pi}{2}$, $\\cos 5\\frac{\\pi}{2}$,\n",
    "and so on, which all evaluates to zero, and since the cosine is 1 for $x=0$,\n",
    "the formula found by `sympy` is correct.\n",
    "\n",
    "We then get"
   ]
  },
  {
   "cell_type": "markdown",
   "metadata": {},
   "source": [
    "$$\n",
    "b_i = -(2i+1)^2\\frac{\\pi^2}{4}\\frac{2}{\\pi(2i+1)} = -\\frac{1}{2} (2i+1)\\pi,\n",
    "$$"
   ]
  },
  {
   "cell_type": "markdown",
   "metadata": {},
   "source": [
    "and consequently,"
   ]
  },
  {
   "cell_type": "markdown",
   "metadata": {},
   "source": [
    "$$\n",
    "c_i = \\frac{b_i}{A_{i,i}} = -\\frac{\\frac{1}{2} (2i+1)\\pi}{\\frac{1}{2} (2i+1)^4}\\frac{\\pi^4}{16} = -\\frac{16}{\\pi^3(2i+1)^3}{\\thinspace .}\n",
    "$$"
   ]
  },
  {
   "cell_type": "markdown",
   "metadata": {},
   "source": [
    "**Galerkin's method.**\n",
    "The Galerkin method applied to this problem\n",
    "starts with"
   ]
  },
  {
   "cell_type": "markdown",
   "metadata": {},
   "source": [
    "$$\n",
    "(u'',v) = (1,v)\\quad \\forall v\\in V,\n",
    "$$"
   ]
  },
  {
   "cell_type": "markdown",
   "metadata": {},
   "source": [
    "and the requirement that $v(0)=0$ since $u(0)=0$.\n",
    "Integration by parts and using $u'(1)=0$ and $v(0)=0$ makes the boundary\n",
    "term vanish, and the variational form becomes"
   ]
  },
  {
   "cell_type": "markdown",
   "metadata": {},
   "source": [
    "$$\n",
    "(u',v') = -(1,v) \\quad \\forall v\\in V{\\thinspace .}\n",
    "$$"
   ]
  },
  {
   "cell_type": "markdown",
   "metadata": {},
   "source": [
    "Inserting $u=\\sum_{j=0}^Nc_j{\\psi}_j(x)$ and $v={\\psi}_i$ leads to"
   ]
  },
  {
   "cell_type": "markdown",
   "metadata": {},
   "source": [
    "$$\n",
    "\\sum_{j=0}^N ({\\psi}_j', {\\psi}_i')c_j = (1,{\\psi}_i),\\quad i=0,\\ldots,N{\\thinspace .}\n",
    "$$"
   ]
  },
  {
   "cell_type": "markdown",
   "metadata": {},
   "source": [
    "With ${\\psi}_i=\\sin((2i+1)\\frac{\\pi x}{2})$ the matrix entries become"
   ]
  },
  {
   "cell_type": "markdown",
   "metadata": {},
   "source": [
    "$$\n",
    "A_{i,j} =  (2i+1)(2j+1)\\frac{\\pi^2}{4}\\int_0^1 \\cos((2i+1)\\frac{\\pi x}{2})\n",
    "\\cos((2j+1)\\frac{\\pi x}{2})dx{\\thinspace .}\n",
    "$$"
   ]
  },
  {
   "cell_type": "markdown",
   "metadata": {},
   "source": [
    "Orthogonality of the cosine functions implies $A_{i,j}=0$ for\n",
    "$i\\neq j$, and $A_{i,i}$ is computed by integrating the square\n",
    "of the cosine function,"
   ]
  },
  {
   "cell_type": "code",
   "execution_count": 27,
   "metadata": {},
   "outputs": [],
   "source": [
    "integrate(cos((k+1)*pi*x/2)**2, (x, 0, 1))"
   ]
  },
  {
   "cell_type": "markdown",
   "metadata": {},
   "source": [
    "Now,"
   ]
  },
  {
   "cell_type": "markdown",
   "metadata": {},
   "source": [
    "$$\n",
    "A_{i,i} = (2i+1)^2\\frac{\\pi^2}{4}\\frac{1}{2} = \\frac{1}{8}(2i+1)^2 \\pi^2{\\thinspace .}\n",
    "$$"
   ]
  },
  {
   "cell_type": "markdown",
   "metadata": {},
   "source": [
    "The right-hand side has almost the same integral as in the\n",
    "least squares case,"
   ]
  },
  {
   "cell_type": "markdown",
   "metadata": {},
   "source": [
    "$$\n",
    "b_i = -\\int_0^1 \\sin((2i+1)\\frac{\\pi x}{2})dx = -\\frac{2}{\\pi (2i+1)}{\\thinspace .}\n",
    "$$"
   ]
  },
  {
   "cell_type": "markdown",
   "metadata": {},
   "source": [
    "Consequently,"
   ]
  },
  {
   "cell_type": "markdown",
   "metadata": {},
   "source": [
    "$$\n",
    "c_i = \\frac{b_i}{A_{i,i}} = -\\frac{16}{\\pi^3(2i+1)^3},\n",
    "$$"
   ]
  },
  {
   "cell_type": "markdown",
   "metadata": {},
   "source": [
    "which is the same result as we obtained in the least squares method.\n",
    "\n",
    "\n",
    "**Decay of coefficients.**\n",
    "The coefficients decay,"
   ]
  },
  {
   "cell_type": "markdown",
   "metadata": {},
   "source": [
    "$$\n",
    "\\frac{c_i}{c_{i+1}} = \\left(\\frac{2i+3}{2i+1}\\right)^3 > 0{\\thinspace .}\n",
    "$$"
   ]
  },
  {
   "cell_type": "markdown",
   "metadata": {},
   "source": [
    "The decay is most pronounced for the first terms:"
   ]
  },
  {
   "cell_type": "code",
   "execution_count": 28,
   "metadata": {},
   "outputs": [],
   "source": [
    "for i in range(10):\n",
    "  print((float(2*i+3)/(2*i+1))**3)"
   ]
  },
  {
   "cell_type": "markdown",
   "metadata": {},
   "source": [
    "**Error in one-term solution.**\n",
    "Keeping just one term ($N=0$) means that"
   ]
  },
  {
   "cell_type": "markdown",
   "metadata": {},
   "source": [
    "$$\n",
    "u(x) = -\\frac{16}{\\pi^3}\\sin(\\frac{\\pi x}{2}){\\thinspace .}\n",
    "$$"
   ]
  },
  {
   "cell_type": "markdown",
   "metadata": {},
   "source": [
    "The maximum deflection at $x=1$ becomes $-16\\pi^{-3}=-0.5160$, to be compared\n",
    "with the exact value $-\\frac{1}{2}$. The error is 3.2 percent.\n",
    "\n",
    "<!-- --- end solution of exercise --- -->\n",
    "\n",
    "**c)**\n",
    "Visualize the solutions in b) for $N=0,1,20$.\n",
    "\n",
    "\n",
    "<!-- --- begin solution of exercise --- -->\n",
    "**Solution.**\n",
    "First we need a function to compute the approximate $u$ in this case:"
   ]
  },
  {
   "cell_type": "code",
   "execution_count": 29,
   "metadata": {},
   "outputs": [],
   "source": [
    "def sine_sum(x, N):\n",
    "    s = 0\n",
    "    from numpy import pi, sin, zeros\n",
    "    u = [] # u[k] is the sum i=0,...,k\n",
    "    k = 0\n",
    "    for i in range(N+1):\n",
    "        s += - 16.0/((2*i+1)**3*pi**3)*sin((2*i+1)*pi*x/2)\n",
    "        u.append(s.copy())  # important with copy!\n",
    "    return u"
   ]
  },
  {
   "cell_type": "markdown",
   "metadata": {},
   "source": [
    "Note the need to append `s.copy()`: doing just `u.append(s)` will\n",
    "make, e.g., `u[0]` a reference to `s`, which at the end of the\n",
    "loop is an array corresponding to the maximum $i$ value.\n",
    "\n",
    "We also need a function that can create an appropriate plot:"
   ]
  },
  {
   "cell_type": "code",
   "execution_count": 30,
   "metadata": {},
   "outputs": [],
   "source": [
    "def plot_sine_sum():\n",
    "    from numpy import linspace\n",
    "    x = linspace(0, 1, 501)  # coordinates for plot\n",
    "    u = sine_sum(x, N=10)\n",
    "    u_e = 0.5*x*(x-2)\n",
    "    N_values = 0, 1, 10\n",
    "    for k in N_values:\n",
    "        plt.plot(x, u[k])\n",
    "    plt.plot(x, u_e)\n",
    "    plt.legend(['N=%d' % k for k in N_values] + ['exact'],\n",
    "               loc='upper right')\n",
    "    plt.xlabel('$x$');  plt.ylabel('$u$')\n",
    "    plt.savefig('tmpc.png'); plt.savefig('tmpc.pdf')"
   ]
  },
  {
   "cell_type": "markdown",
   "metadata": {},
   "source": [
    "The plot shows that the solution for $N=0$ has a slight deviation from the\n",
    "exact curve, but even $N=1$ catches up visually with the exact solution (!).\n",
    "\n",
    "<!-- dom:FIGURE: [fig/cable_sin_c.png, width=500 frac=0.8] -->\n",
    "<!-- begin figure -->\n",
    "\n",
    "<p></p>\n",
    "<img src=\"fig/cable_sin_c.png\" width=500>\n",
    "\n",
    "<!-- end figure -->\n",
    "\n",
    "\n",
    "<!-- --- end solution of exercise --- -->\n",
    "\n",
    "**d)**\n",
    "The functions in b) were selected such that they fulfill the\n",
    "condition ${\\psi}'(1)=0$. However, in the Galerkin method, where we\n",
    "integrate by parts, the condition $u'(1)=0$ is incorporated in the\n",
    "variational form. This leads to the idea of just choosing a simpler\n",
    "basis, namely \"all\" sine functions ${\\psi}_i = \\sin((i+1)\\frac{\\pi x}{2})$.\n",
    "Will the method adjust the coefficient such that the additional\n",
    "functions compared with those in b) get vanishing coefficients? Or\n",
    "will the additional basis functions improve the solution?\n",
    "Use Galerkin's method.\n",
    "\n",
    "\n",
    "<!-- --- begin solution of exercise --- -->\n",
    "**Solution.**\n",
    "According to the calculations in b), the Galerkin method, with\n",
    "${\\psi}_i = \\sin((i+1)\\frac{\\pi x}{2})$, leads to the almost the\n",
    "same\n",
    "matrix entries on the diagonal:"
   ]
  },
  {
   "cell_type": "markdown",
   "metadata": {},
   "source": [
    "$$\n",
    "\\begin{align*}\n",
    "A_{i,i} &= (i+1)(j+1)\\frac{\\pi^2}{4}\\int_0^1 \\cos((i+1)\\frac{\\pi x}{2})\n",
    "\\cos((j+1)\\frac{\\pi x}{2})dx\\\\ \n",
    "&= (i+1)^2\\frac{\\pi^2}{4}\\frac{1}{2} = \\frac{1}{8}(i+1)^2 \\pi^2{\\thinspace .}\n",
    "\\end{align*}\n",
    "$$"
   ]
  },
  {
   "cell_type": "markdown",
   "metadata": {},
   "source": [
    "The right-hand side becomes (as before)"
   ]
  },
  {
   "cell_type": "markdown",
   "metadata": {},
   "source": [
    "$$\n",
    "b_i = -\\int_0^1 \\sin((i+1)\\frac{\\pi x}{2})dx = -\\frac{2}{\\pi (i+1)}{\\thinspace .}\n",
    "$$"
   ]
  },
  {
   "cell_type": "markdown",
   "metadata": {},
   "source": [
    "We may use `sympy` to integrate,"
   ]
  },
  {
   "cell_type": "code",
   "execution_count": 31,
   "metadata": {},
   "outputs": [],
   "source": [
    "integrate(sin((i+1)*pi*x/2), (x, 0, 1))"
   ]
  },
  {
   "cell_type": "markdown",
   "metadata": {},
   "source": [
    "As noted in b), let us be a bit skeptical to this answer and check it.\n",
    "A quick check with numerical integration,"
   ]
  },
  {
   "cell_type": "code",
   "execution_count": 32,
   "metadata": {},
   "outputs": [],
   "source": [
    "def check_integral_d_sympy_answer():\n",
    "    from numpy import pi, sin\n",
    "    for i in range(12):\n",
    "        exact = 2/(pi*(i+1))\n",
    "        numerical = midpoint_rule(\n",
    "            f=lambda x: sin((i+1)*pi*x/2))\n",
    "        print((i, abs(exact - numerical)))"
   ]
  },
  {
   "cell_type": "markdown",
   "metadata": {},
   "source": [
    "gives the output"
   ]
  },
  {
   "cell_type": "markdown",
   "metadata": {},
   "source": [
    "        0 6.54487575247e-12\n",
    "        1 0.31830988621\n",
    "        2 1.96350713466e-11\n",
    "        3 0.159154943092\n",
    "        4 3.27249061183e-11\n",
    "        5 0.106103295473\n",
    "        6 4.58150045679e-11\n",
    "        7 0.0795774715459\n",
    "        8 5.89047144395e-11\n",
    "        9 0.0636619773677\n",
    "        10 7.19949447281e-11\n",
    "        11 0.0530516476973\n"
   ]
  },
  {
   "cell_type": "markdown",
   "metadata": {},
   "source": [
    "It is clear that for $i$ odd, there are significant differences between\n",
    "the `sympy` answer and the midpoint rule with high resolution!\n",
    "\n",
    "We therefore need to do hand calculations to investigate this problem\n",
    "further.\n",
    "The anti-derivative is very easy to realize in this case:"
   ]
  },
  {
   "cell_type": "markdown",
   "metadata": {},
   "source": [
    "$$\n",
    "\\begin{align*}\n",
    "\\int_0^1\\sin ((i+1)\\pi x/2)dx &= -\\frac{2}{\\pi(i+1)}(\\cos((i+1)\\frac{\\pi}{2}) - \\cos(0))\\\\ \n",
    "&= \\frac{2}{\\pi(i+1)}(1 - \\cos((i+1)\\frac{\\pi}{2})){\\thinspace .}\n",
    "\\end{align*}\n",
    "$$"
   ]
  },
  {
   "cell_type": "markdown",
   "metadata": {},
   "source": [
    "The value of the cosine expression depends on $i$, and the first values are\n",
    "\n",
    "<table border=\"1\">\n",
    "<thead>\n",
    "<tr><th align=\"center\">$i=0$</th> <th align=\"center\">$i=1$</th> <th align=\"center\">$i=2$</th> <th align=\"center\">$i=3$</th> </tr>\n",
    "</thead>\n",
    "<tbody>\n",
    "<tr><td align=\"center\">   0        </td> <td align=\"center\">   -1       </td> <td align=\"center\">   0        </td> <td align=\"center\">   1        </td> </tr>\n",
    "</tbody>\n",
    "</table>\n",
    "This pattern repeats and is the same for four consecutive values of $i$.\n",
    "Hence, the integral is $2/(\\pi (i+1))$ for even $i$ ($i=2k$ for\n",
    "integer $k$, or equivalently: when $i\\mbox{ mod } 2 = 0$). For $i=4k+1$, or\n",
    "equivalently: when $(i-1)\\mbox{ mod } 4 = 0$, the\n",
    "integral is $4/(\\pi(4k+1))$, while for $i=4k+3$, the integral vanishes.\n",
    "This is a more complicated answer than what `sympy` provides!\n",
    "\n",
    "We can check our new answers against numerical integration:"
   ]
  },
  {
   "cell_type": "code",
   "execution_count": 33,
   "metadata": {},
   "outputs": [],
   "source": [
    "def check_integral_d():\n",
    "    from numpy import pi, sin\n",
    "    for i in range(24):\n",
    "        if i % 2 == 0:\n",
    "            exact = 2/(pi*(i+1))\n",
    "        elif (i-1) % 4 == 0:\n",
    "            exact = 2*2/(pi*(i+1))\n",
    "        else:\n",
    "            exact = 0\n",
    "        numerical = midpoint_rule(\n",
    "            f=lambda x: sin((i+1)*pi*x/2))\n",
    "        print((i, abs(exact - numerical)))"
   ]
  },
  {
   "cell_type": "markdown",
   "metadata": {},
   "source": [
    "The output now is around $10^{-10}$ and we take that as a sign that\n",
    "our exact results are reliable.\n",
    "\n",
    "**Carefully check symbolic computations!**\n",
    "\n",
    "The example above shows how `sympy` can fail.\n",
    "[Wolfram Alpha](http://wolframalpha.com) does a better job: writing\n",
    "`integrate sin(k*x*pi/2) from 0 to 1` (use `k` instead of `i` since the latter\n",
    "is the imaginary unit) returns the [result](http://www.wolframalpha.com/input/?i=integrate+sin%28k*x*pi%2F2%29+from+0+to+1) $4\\sin^2(\\pi k/4)/(\\pi k)$,\n",
    "which coincides with out result.\n",
    "\n",
    "There are three general techniques\n",
    "to verify a symbolic computation:\n",
    "\n",
    " * Use alternative software like Wolfram Alpha for comparison\n",
    "\n",
    " * Check that the result satisfies the problem to be solved\n",
    "\n",
    " * Make a high-resolution numerical approximation and compare\n",
    "\n",
    "(The second technique is not so applicable here, since we work with\n",
    "a definite integral, but one could compute the indefinite integral\n",
    "instead, which is done correctly by `sympy`, and discuss values for\n",
    "$x=1$.)\n",
    "\n",
    "\n",
    "\n",
    "The final result for $c_i$ is now"
   ]
  },
  {
   "cell_type": "markdown",
   "metadata": {},
   "source": [
    "$$\n",
    "c_i = \\frac{b_i}{A_{i,i}} = \\left\\lbrace\\begin{array}{ll}\n",
    "-\\frac{16}{\\pi^3(i+1)^3}, & i\\hbox{ even, or } i \\hbox{ mod } 2 = 0\\\\ \n",
    "-\\frac{32}{\\pi^3(i+1)^3}, & (i-1)\\hbox{ mod } 4 = 0,\\\\ \n",
    "0, & (i+1)\\hbox{ mod } 4 = 0\n",
    "\\end{array}\\right.\n",
    "$$"
   ]
  },
  {
   "cell_type": "markdown",
   "metadata": {},
   "source": [
    "We recognize that for $i$ even, say $i=2k$ for integer $k$, we\n",
    "have exactly the same result as in b):"
   ]
  },
  {
   "cell_type": "markdown",
   "metadata": {},
   "source": [
    "$$\n",
    "-\\sum_k \\frac{16}{\\pi^3(2k+1)^3}\\sin((2k+1)x\\frac{\\pi x}{2}),\n",
    "$$"
   ]
  },
  {
   "cell_type": "markdown",
   "metadata": {},
   "source": [
    "but we get an additional set of terms for $i=4k+1$,"
   ]
  },
  {
   "cell_type": "markdown",
   "metadata": {},
   "source": [
    "<!-- Equation labels as ordinary links -->\n",
    "<div id=\"fem:deq:exer:tension:cable:badterms\"></div>\n",
    "\n",
    "$$\n",
    "\\begin{equation}\n",
    "-\\sum_k \\frac{32}{\\pi^3(i+1)^3}\\sin((4k+1)x\\frac{\\pi x}{2}){\\thinspace .}\n",
    "\\label{fem:deq:exer:tension:cable:badterms} \\tag{63}\n",
    "\\end{equation}\n",
    "$$"
   ]
  },
  {
   "cell_type": "markdown",
   "metadata": {},
   "source": [
    "We can modify the software from c) to compute the approximate $u$\n",
    "with the present set of basis functions and coefficients:"
   ]
  },
  {
   "cell_type": "code",
   "execution_count": 34,
   "metadata": {},
   "outputs": [],
   "source": [
    "def sine_sum_d(x, N):\n",
    "    s = 0\n",
    "    from numpy import pi, sin, zeros\n",
    "    u = []  # u[k] is the sum i=0,...,k\n",
    "    k = 0\n",
    "    for i in range(N+1):\n",
    "        if i % 2 == 0:       # even i\n",
    "            s +=   - 16.0/((i+1)**3*pi**3)*sin((i+1)*pi*x/2)\n",
    "        elif (i-1) % 4 == 0:   # 1, 5, 9, 13, 17\n",
    "            s += - 2*16.0/((i+1)**3*pi**3)*sin((i+1)*pi*x/2)\n",
    "        else:\n",
    "            s += 0\n",
    "        u.append(s.copy())\n",
    "    return u\n",
    "\n",
    "def plot_sine_sum_d():\n",
    "    from numpy import linspace\n",
    "    x = linspace(0, 1, 501)  # coordinates for plot\n",
    "    u = sine_sum_d(x, N=20)\n",
    "    u_e = 0.5*x*(x-2)\n",
    "    N_values = 0, 1, 2, 3, 20\n",
    "    for k in N_values:\n",
    "        plt.plot(x, u[k])\n",
    "    plt.plot(x, u_e)\n",
    "    plt.legend(['N=%d' % k for k in N_values] + ['exact'],\n",
    "               loc='upper right')\n",
    "    plt.xlabel('$x$');  plt.ylabel('$u$')\n",
    "    #plt.axis([0.9, 1, -0.52, -0.49])\n",
    "    plt.savefig('tmpd.png'); plt.savefig('tmpd.pdf')"
   ]
  },
  {
   "cell_type": "markdown",
   "metadata": {},
   "source": [
    "The approximations for $N=0,1,3,20$ appear below.\n",
    "\n",
    "<!-- dom:FIGURE: [fig/cable_sin_d.png, width=500 frac=0.8] -->\n",
    "<!-- begin figure -->\n",
    "\n",
    "<p></p>\n",
    "<img src=\"fig/cable_sin_d.png\" width=500>\n",
    "\n",
    "<!-- end figure -->\n",
    "\n",
    "\n",
    "While the approximation for $N=0$ coincides with the one in b), we\n",
    "see that $N=1$ and higher values of $N$ lead to a clearly wrong curve.\n",
    "This strange feature has to be investigated!\n",
    "\n",
    "Let us start by plotting the basis functions for $i=0,1,\\ldots,7$:\n",
    "\n",
    "<!-- dom:FIGURE: [fig/sinix_int.png, width=800 frac=1] -->\n",
    "<!-- begin figure -->\n",
    "\n",
    "<p></p>\n",
    "<img src=\"fig/sinix_int.png\" width=800>\n",
    "\n",
    "<!-- end figure -->\n",
    "\n",
    "\n",
    "We observe from the figure that all the basis functions corresponding to\n",
    "even $i$ are symmetric around $x=1$, which is an important property of\n",
    "the solution. The functions for odd $i$ are anti-symmetric. However,\n",
    "for $i=3,7,11,\\ldots$ the basis function has an integer number of\n",
    "periods on $[0,1]$ so the integral becomes zero, $c_i=0$, and\n",
    "consequently\n",
    "there is no effect from these functions. The functions corresponding\n",
    "to $i=1,5,9,13,\\ldots$ are anti-symmetric around $x=1$ with nonzero\n",
    "coefficients. The derivative of an anti-symmetric function at the point\n",
    "of anti-symmetry is unity in size. Since the derivatives of all the\n",
    "basis functions corresponding to even $i$ vanish at $x=1$, the\n",
    "extra terms ($i=1,5,9,13,\\ldots$) in ([63](#fem:deq:exer:tension:cable:badterms))\n",
    "have a nonzero derivative, resulting in $u'(1)\\neq 0$. That is,\n",
    "these terms destroy the solution!\n",
    "\n",
    "But we computed $c_i$ by a Galerkin method, which is equivalent to a\n",
    "least squares method, which gives us the \"best\" approximation possible?\n",
    "That is true, but it is the best approximation in the chosen space $V$.\n",
    "The problem is that we have populated (or rather polluted) the space\n",
    "$V$ with some basis functions that have a wrong mathematical property: they\n",
    "are anti-symmetric around $x=1$.\n",
    "\n",
    "<!-- --- end solution of exercise --- -->\n",
    "\n",
    "**e)**\n",
    "Now we drop the symmetry condition at $x=1$ and extend the domain to\n",
    "$[0,2]$ such that it covers the entire (scaled) physical cable. The\n",
    "problem now reads"
   ]
  },
  {
   "cell_type": "markdown",
   "metadata": {},
   "source": [
    "$$\n",
    "u'' = 1,\\quad x\\in (0,2),\\quad u(0)=u(2)=0{\\thinspace .}\n",
    "$$"
   ]
  },
  {
   "cell_type": "markdown",
   "metadata": {},
   "source": [
    "This time we need basis functions that are zero at $x=0$ and $x=2$.\n",
    "The set $\\sin((i+1)\\frac{\\pi x}{2})$ from d) is a candidate since\n",
    "they vanish $x=2$ for any $i$. Compute the approximation in this case.\n",
    "Why is this approximation without the problem that this set of\n",
    "basis functions introduced in d)?\n",
    "\n",
    "\n",
    "<!-- --- begin solution of exercise --- -->\n",
    "**Solution.**\n",
    "The formulas are almost the same as in d), only the integration domain\n",
    "is different. Since the sine functions or orthogonal on $[0,1]$, they\n",
    "are also orthogonal on $[0,2]$. Because"
   ]
  },
  {
   "cell_type": "code",
   "execution_count": 35,
   "metadata": {},
   "outputs": [],
   "source": [
    "integrate(cos((i+1)*pi*x/2)**2, (x, 0, 2))"
   ]
  },
  {
   "cell_type": "markdown",
   "metadata": {},
   "source": [
    "we get (in Galerkin's method)"
   ]
  },
  {
   "cell_type": "markdown",
   "metadata": {},
   "source": [
    "$$\n",
    "\\begin{align*}\n",
    "A_{i,i} &= (i+1)(j+1)\\frac{\\pi^2}{4}\\int_0^2 \\cos((i+1)\\frac{\\pi x}{2})\n",
    "\\cos((i+1)\\frac{\\pi x}{2})dx\\\\ \n",
    "& = (i+1)^2\\frac{\\pi^2}{4}{\\thinspace .}\n",
    "\\end{align*}\n",
    "$$"
   ]
  },
  {
   "cell_type": "markdown",
   "metadata": {},
   "source": [
    "and"
   ]
  },
  {
   "cell_type": "markdown",
   "metadata": {},
   "source": [
    "$$\n",
    "b_i = -\\int_0^2 \\sin((i+1)\\frac{\\pi x}{2})dx = \\frac{2}{\\pi (i+1)}(\\cos((i+1)\\pi) - 1){\\thinspace .}\n",
    "$$"
   ]
  },
  {
   "cell_type": "markdown",
   "metadata": {},
   "source": [
    "We have that $\\cos((i+1)\\pi = -1$ for $i$ even and\n",
    "$\\cos((i+1)\\pi = 1$ for $i$ odd. That is,"
   ]
  },
  {
   "cell_type": "markdown",
   "metadata": {},
   "source": [
    "$$\n",
    "b_i =\\left\\lbrace\\begin{array}{ll}\n",
    "-\\frac{4}{\\pi (i+1)}, & i\\hbox{ even }\\\\ \n",
    "0, & i\\hbox{ odd }\n",
    "\\end{array}\\right.\n",
    "$$"
   ]
  },
  {
   "cell_type": "markdown",
   "metadata": {},
   "source": [
    "The coefficients become"
   ]
  },
  {
   "cell_type": "markdown",
   "metadata": {},
   "source": [
    "$$\n",
    "c_i =\\frac{b_i}{A_{i,i}} =\\left\\lbrace\\begin{array}{ll}\n",
    "-\\frac{16}{\\pi^3(i+1)^3}, & i\\hbox{ even }\\\\ \n",
    "0, & i\\hbox{ odd }\n",
    "\\end{array}\\right.\n",
    "$$"
   ]
  },
  {
   "cell_type": "markdown",
   "metadata": {},
   "source": [
    "Introducing $i=2k$ and then switching from $k$ to $i$ as summation index\n",
    "gives $c_i = -\\frac{16}{\\pi^3(2i+1)^3}$ and"
   ]
  },
  {
   "cell_type": "markdown",
   "metadata": {},
   "source": [
    "$$\n",
    "u(x) = -\\sum_{i=0}^N \\frac{16}{\\pi^3(2i+1)^3}\\sin((i+1)\\frac{\\pi x}{2}),\n",
    "$$"
   ]
  },
  {
   "cell_type": "markdown",
   "metadata": {},
   "source": [
    "which is the same expansion as in b).\n",
    "\n",
    "The reason why the basis functions ${\\psi}_i=\\sin((i+1)\\frac{\\pi x}{2})$\n",
    "work well in this case is that the problematic functions for $i=1,5,\\ldots$\n",
    "in d) now live on $[0,2]$ instead of $[0,1]$. On $[0,2]$ these functions\n",
    "have an integer number of periods such that the integral from 0 to 2\n",
    "becomes zero. These basis functions are therefore excluded from the\n",
    "expansion since their coefficients vanish.\n",
    "The lesson learned is that two equivalent boundary value\n",
    "problems may make different demands to the basis functions.\n",
    "\n",
    "<!-- --- end solution of exercise --- -->\n",
    "\n",
    "<!-- BIG point: use polynomials, without integration by parts we cannot -->\n",
    "<!-- handle the boundary condition. -->\n",
    "\n",
    "Filename: `cable_sin`.\n",
    "\n",
    "<!-- --- end exercise --- -->\n",
    "\n",
    "\n",
    "\n",
    "\n",
    "<!-- --- begin exercise --- -->\n",
    "\n",
    "## Exercise 3: Compute the deflection of a cable with power functions\n",
    "<div id=\"fem:deq:exer:tension:cable_xn\"></div>\n",
    "\n",
    "\n",
    "**a)**\n",
    "Repeat [Exercise 2: Compute the deflection of a cable with sine functions](#fem:deq:exer:tension:cable) b), but work with\n",
    "the space"
   ]
  },
  {
   "cell_type": "markdown",
   "metadata": {},
   "source": [
    "$$\n",
    "V = \\hbox{span}\\{x, x^2, x^3, x^4, \\ldots\\}{\\thinspace .}\n",
    "$$"
   ]
  },
  {
   "cell_type": "markdown",
   "metadata": {},
   "source": [
    "Choose the dimension of $V$ to be 4 and observe that the exact solution\n",
    "is recovered by the Galerkin method.\n",
    "\n",
    "<!-- --- begin hint in exercise --- -->\n",
    "\n",
    "**Hint.**\n",
    "Use the `solver` function from `varform1D.py`.\n",
    "\n",
    "<!-- --- end hint in exercise --- -->\n",
    "\n",
    "\n",
    "<!-- --- begin solution of exercise --- -->\n",
    "**Solution.**\n",
    "The Galerkin formulation of $u''=1$, $u(0)=0$, $u'(1)=0$, reads"
   ]
  },
  {
   "cell_type": "markdown",
   "metadata": {},
   "source": [
    "$$\n",
    "(u',v') = -(1,v)\\quad\\forall v\\in V,\n",
    "$$"
   ]
  },
  {
   "cell_type": "markdown",
   "metadata": {},
   "source": [
    "and the linear system becomes"
   ]
  },
  {
   "cell_type": "markdown",
   "metadata": {},
   "source": [
    "$$\n",
    "\\sum_{j=}^N ({\\psi}_i', {\\psi}_j')c_j = -(1,{\\psi}_i),\\quad i=0,1,\\ldots,N{\\thinspace .}\n",
    "$$"
   ]
  },
  {
   "cell_type": "markdown",
   "metadata": {},
   "source": [
    "The `varform1D.solver` function needs a function specifying the integrands\n",
    "on the left- and right-hand sides of the variational formulation.\n",
    "Moreover, we must compute a dictionary of ${\\psi}_i$ and ${\\psi}_i'$.\n",
    "The appropriate code becomes"
   ]
  },
  {
   "cell_type": "code",
   "execution_count": 36,
   "metadata": {},
   "outputs": [],
   "source": [
    "from varform1D import solver\n",
    "import sympy as sym\n",
    "x, b = sym.symbols('x b')\n",
    "f = 1\n",
    "\n",
    "# Compute basis functions and their derivatives\n",
    "N = 4\n",
    "psi = {0: [x**(i+1) for i in range(N+1)]}\n",
    "psi[1] = [sym.diff(psi_i, x) for psi_i in psi[0]]\n",
    "\n",
    "# Galerkin\n",
    "\n",
    "def integrand_lhs(psi, i, j):\n",
    "    return psi[1][i]*psi[1][j]\n",
    "\n",
    "def integrand_rhs(psi, i):\n",
    "    return -f*psi[0][i]\n",
    "\n",
    "Omega = [0, 1]\n",
    "\n",
    "u, c = solver(integrand_lhs, integrand_rhs, psi, Omega,\n",
    "              verbose=True, symbolic=True)\n",
    "print(('Galerkin solution u:', sym.simplify(sym.expand(u))))"
   ]
  },
  {
   "cell_type": "markdown",
   "metadata": {},
   "source": [
    "Running this code gives the output"
   ]
  },
  {
   "cell_type": "markdown",
   "metadata": {},
   "source": [
    "        solution u: x*(x - 2)/2\n"
   ]
  },
  {
   "cell_type": "markdown",
   "metadata": {},
   "source": [
    "which coincides with the exact solution ($c_3=c_4=0$).\n",
    "\n",
    "<!-- --- end solution of exercise --- -->\n",
    "\n",
    "**b)**\n",
    "What happens if we use a least squares method for this problem with\n",
    "the basis in a)?\n",
    "\n",
    "\n",
    "<!-- --- begin solution of exercise --- -->\n",
    "**Solution.**\n",
    "The least squares formulation leads to"
   ]
  },
  {
   "cell_type": "markdown",
   "metadata": {},
   "source": [
    "$$\n",
    "(R,\\frac{\\partial R}{\\partial c_i}=0,\\quad i=0,\\ldots,N,\n",
    "$$"
   ]
  },
  {
   "cell_type": "markdown",
   "metadata": {},
   "source": [
    "with"
   ]
  },
  {
   "cell_type": "markdown",
   "metadata": {},
   "source": [
    "$$\n",
    "R = 1 - u'' = 1 - \\sum_jc_j{\\psi}_j''{\\thinspace .}\n",
    "$$"
   ]
  },
  {
   "cell_type": "markdown",
   "metadata": {},
   "source": [
    "We have"
   ]
  },
  {
   "cell_type": "markdown",
   "metadata": {},
   "source": [
    "$$\n",
    "\\frac{\\partial R}{\\partial c_i} = {\\psi}_i'',\n",
    "$$"
   ]
  },
  {
   "cell_type": "markdown",
   "metadata": {},
   "source": [
    "leading to the equations"
   ]
  },
  {
   "cell_type": "markdown",
   "metadata": {},
   "source": [
    "$$\n",
    "(1 + \\sum_jc_j{\\psi}_j'', {\\psi}_i''),\\quad i=0,\\ldots,N,\n",
    "$$"
   ]
  },
  {
   "cell_type": "markdown",
   "metadata": {},
   "source": [
    "which is a linear system"
   ]
  },
  {
   "cell_type": "markdown",
   "metadata": {},
   "source": [
    "$$\n",
    "\\sum_{j=0}^N({\\psi}_j'',{\\psi}_i'') = (-1,{\\psi}_i''),\\quad i=0,\\ldots,N{\\thinspace .}\n",
    "$$"
   ]
  },
  {
   "cell_type": "markdown",
   "metadata": {},
   "source": [
    "The fundamental problem with the basis in a) is that ${\\psi}_0''=0$, so\n",
    "if power functions of $x$ are wanted, we need to work with the basis\n",
    "$V=\\hbox{span}\\{x^2, x^3,\\ldots\\}$. If we do so, we can easily modify\n",
    "the code from a),"
   ]
  },
  {
   "cell_type": "code",
   "execution_count": 37,
   "metadata": {},
   "outputs": [],
   "source": [
    "# Least squares\n",
    "psi = {0: [x**(i+2) for i in range(N+1)]}\n",
    "psi[1] = [sym.diff(psi_i, x) for psi_i in psi[0]]\n",
    "psi[2] = [sym.diff(psi_i, x) for psi_i in psi[1]]\n",
    "\n",
    "def integrand_lhs(psi, i, j):\n",
    "    return psi[2][i]*psi[2][j]\n",
    "\n",
    "def integrand_rhs(psi, i):\n",
    "    return -f*psi[2][i]\n",
    "\n",
    "Omega = [0, 1]\n",
    "\n",
    "u, c = solver(integrand_lhs, integrand_rhs, psi, Omega,\n",
    "              verbose=True, symbolic=True)\n",
    "print(('solution u:', sym.simplify(sym.expand(u))))"
   ]
  },
  {
   "cell_type": "markdown",
   "metadata": {},
   "source": [
    "The result is $u=-\\frac{1}{2} x^2$. This function does not obey $u'(1)=0$ and\n",
    "is completely wrong. In this least squares method we cannot access the basis\n",
    "function $x$, which is needed in the exact solution, and we have no means\n",
    "to obtain $u'(1)=0$.\n",
    "\n",
    "**Remark.** There is a modification of the least squares method that\n",
    "can be applied here. The\n",
    "problem $u''=1$ must be rewritten as a system of two equations,\n",
    "$u_1'=u_2$, $u_2' =1$. We expand $u_1=\\sum_{j=0}^N c_j{\\psi}_j$ and\n",
    "$u_2=\\sum_{j=0}^N d_j{\\psi}_j$. The residuals in both equations are\n",
    "added, squared, and differentiated with respect to $c_i$ and $d_i$,\n",
    "$i=0,\\ldots,N$. The result is a coupled equation system for the\n",
    "$c_i$ and $d_i$ coefficients.\n",
    "\n",
    "<!-- --- end solution of exercise --- -->\n",
    "\n",
    "Filename: `cable_xn`.\n",
    "\n",
    "<!-- --- end exercise --- -->\n",
    "\n",
    "\n",
    "\n",
    "\n",
    "<!-- --- begin exercise --- -->\n",
    "\n",
    "## Exercise 4: Check integration by parts\n",
    "<div id=\"fem:deq:exer:intg:parts\"></div>\n",
    "\n",
    "Consider the Galerkin method for the problem involving $u$\n",
    "in [Exercise 2: Compute the deflection of a cable with sine functions](#fem:deq:exer:tension:cable).\n",
    "Show that the formulas for $c_j$ are independent of whether we perform\n",
    "integration by parts or not.\n",
    "\n",
    "\n",
    "<!-- --- begin solution of exercise --- -->\n",
    "**Solution.**\n",
    "The Galerkin method is"
   ]
  },
  {
   "cell_type": "markdown",
   "metadata": {},
   "source": [
    "$$\n",
    "(u'',v)=(1,v)\\quad\\forall v\\in V,\n",
    "$$"
   ]
  },
  {
   "cell_type": "markdown",
   "metadata": {},
   "source": [
    "and with the choice of $V$ we get"
   ]
  },
  {
   "cell_type": "markdown",
   "metadata": {},
   "source": [
    "$$\n",
    "\\begin{align*}\n",
    "A_{i,j} &=-(i+1)^2\\pi^2 \\int_0^1\\sin^2((i+1)\\frac{\\pi x}{2})dx,\\\\ \n",
    "b_i &= \\int_0^1\\sin((i+1)\\frac{\\pi x}{2})dx\n",
    "\\end{align*}\n",
    "$$"
   ]
  },
  {
   "cell_type": "markdown",
   "metadata": {},
   "source": [
    "From [Exercise 2: Compute the deflection of a cable with sine functions](#fem:deq:exer:tension:cable) we realize that\n",
    "the integrals are the same as in the least squares method, and\n",
    "those results were identical to those of the Galerkin method with\n",
    "integration by parts.\n",
    "\n",
    "<!-- --- end solution of exercise --- -->\n",
    "Filename: `cable_integr_by_parts`.\n",
    "\n",
    "<!-- --- end exercise --- -->"
   ]
  }
 ],
 "metadata": {
  "kernelspec": {
   "display_name": "Python 3",
   "language": "python",
   "name": "python3"
  },
  "language_info": {
   "codemirror_mode": {
    "name": "ipython",
    "version": 3
   },
   "file_extension": ".py",
   "mimetype": "text/x-python",
   "name": "python",
   "nbconvert_exporter": "python",
   "pygments_lexer": "ipython3",
   "version": "3.8.3"
  }
 },
 "nbformat": 4,
 "nbformat_minor": 2
}
